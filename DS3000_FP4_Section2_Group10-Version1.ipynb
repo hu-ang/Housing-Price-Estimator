{
 "cells": [
  {
   "cell_type": "markdown",
   "metadata": {},
   "source": [
    "<center> <h2> DS 3000 - Spring 2019</h2> </center>\n",
    "<center> <h3> DS Report </h3> </center>\n"
   ]
  },
  {
   "cell_type": "markdown",
   "metadata": {},
   "source": [
    "How Can House Owner Estimate Their Housing Price?\n",
    "Angela Hu, Mengting Tang, Haobo Liu, Jiayuan Chen\n",
    "\n",
    "\n",
    "\n"
   ]
  },
  {
   "cell_type": "markdown",
   "metadata": {},
   "source": [
    "  "
   ]
  },
  {
   "cell_type": "markdown",
   "metadata": {},
   "source": [
    "<hr style=\"height:2px; border:none; color:black; background-color:black;\">"
   ]
  },
  {
   "cell_type": "markdown",
   "metadata": {},
   "source": [
    " Executive Summary:\n",
    "\n",
    "In our project, we choose to work with the data describing about how the house owner can estimate their rental price within the factor that infulence the prices of the houses. We find this topic is very interesting and we can find out which factor will matters much with the rental price. \n",
    "By anlyaze the different variables using the regression analysis, we can show the model of the housing price, and calculate the mean and the value of training set by using different regression.\n"
   ]
  },
  {
   "cell_type": "markdown",
   "metadata": {},
   "source": [
    "<hr style=\"height:2px; border:none; color:black; background-color:black;\">"
   ]
  },
  {
   "cell_type": "markdown",
   "metadata": {},
   "source": [
    "## Outline\n",
    "1. <a href='#1'>INTRODUCTION</a>\n",
    "2. <a href='#2'>METHOD</a>\n",
    "3. <a href='#3'>RESULTS</a>\n",
    "4. <a href='#4'>DISCUSSION</a>"
   ]
  },
  {
   "cell_type": "markdown",
   "metadata": {},
   "source": [
    "<a id=\"1\"></a>\n",
    "<hr style=\"height:2px; border:none; color:black; background-color:black;\">"
   ]
  },
  {
   "cell_type": "markdown",
   "metadata": {},
   "source": [
    "## 1. INTRODUCTION"
   ]
  },
  {
   "attachments": {
    "image.png": {
     "image/png": "[encoded data removed]"
    }
   },
   "cell_type": "markdown",
   "metadata": {},
   "source": [
    "In this section, orient your readers to your project. You've already written some of these in previous deliverables. Based on your final analysis, revise your problem statement and write a concise introduction section. This section should touch upon the following points, but should be written in full paragraphs. Your writing should incorporate all of these points (and more if you like) in a coherent way. Remember that you are trying to convince your readers that this is an important problem to tackle. \n",
    "\t\n",
    "\n",
    "Problem Statement\n",
    " -- We are planning to using regression to analyze how house owner predict their housing price.When people want to buy their house, they always want to buy it in a good and reasonable price, so there will be people willing to take it and the house owner can make some fortune out of it. However, the price is often hard to set because of many different reason, subjectively and objectively. In order to help house owners best set their housing price in an acceptable range, we plan to scrap data from housing website to form a dataset, and we can learn from those data and make prediction for future house posting.\n",
    "\n",
    "\tWhy is it important to tackle this problem in your project?\n",
    "o\tTo understand the model behind price prediction model, to give a better insight for users when they try to buy their house in a good price.\n",
    "\tIn what ways could the insights from this project be useful?\n",
    "o\tUnderstand how to make prediction out of raw data from the internet, including cleaning and filtering the data.\n",
    "![image.png](attachment:image.png)\n",
    "\n",
    "Significance of the Problem\n",
    "* Why is it important to tackle this problem in your project?\n",
    "* In what ways could the insights from this project be useful?\n",
    "* Has there been previous work on your topic? Do some research into your topic. Cite your sources appropriately. You can use the numbered reference format or APA (if you are more comfortable with it).\n",
    "\n",
    "Questions/Hypothesis\n",
    "* End this section with a list of questions and hypotheses\n",
    "* You should tie these questions/hypotheses to the problem statement and its significance\n",
    "    * e.g. Given the aforementioned problem and its importance, we set out to tackle the following questions:\n",
    "    \n",
    "**Requirement:**\n",
    "* You should have at least one question tapping into the comparison of various machine learning algorithms in predicting your target variable from your features variables.\n",
    "* You should have at least one hypothesis regarding the relationship between two variables."
   ]
  },
  {
   "cell_type": "markdown",
   "metadata": {},
   "source": [
    "<a id=\"2\"></a>\n",
    "<hr style=\"height:2px; border:none; color:black; background-color:black;\">"
   ]
  },
  {
   "cell_type": "markdown",
   "metadata": {},
   "source": [
    "## 2. METHOD"
   ]
  },
  {
   "cell_type": "markdown",
   "metadata": {},
   "source": [
    "### 2.1. Data Acquisition\n",
    "\n",
    "* Describe where you obtained your data. Provide a link to the original source. \n",
    "* If you scraped your data, include your code as a separate script file.\n",
    "* Your data should be stored in an online repository (e.g., GitHub) and your code should retrieve your data from that online resource. You can read csv files from the Web in the same way that you read files from local drive.\n",
    "* Describe the dataset and variables. What do variables represent?\n"
   ]
  },
  {
   "cell_type": "markdown",
   "metadata": {},
   "source": [
    "Id: Unique ID for each home sold\n",
    "Date: Date of the home sale\n",
    "Price: Price of each home sold\n",
    "Bedrooms: Number of bedrooms\n",
    "Bathrooms: Number of bathrooms, where .5 accounts for a room with a toilet but no shower\n",
    "Sqft_living: Square footage of the apartments interior living space\n",
    "Sqft_lot: Square footage of the land space\n",
    "Floors: Number of floors\n",
    "Waterfront: A dummy variable for whether the apartment was overlooking the waterfront or not\n",
    "View: An index from 0 to 4 of how good the view of the property was\n",
    "Condition: An index from 1 to 5 on the condition of the apartment\n",
    "Grade: An index from 1 to 13, where 1-3 falls short of the building construction and design, 7 has an average level of construction and design, and 11-13 have a high quality level of construction and design\n",
    "Sqft_above: The square footage of the interior housing space that is above ground level.\n",
    "Sqft_basement: The square footage of the interior housing space that is below ground level.\n",
    "Yr_built: The year the house was initially built\n",
    "Yr_renovated: The year of the house's last renovation\n",
    "Zipcode: What zipcode area the house is in\n",
    "Lat: Lattitude\n",
    "Long: Longitude\n",
    "Sqft_living15: The square footage of interior housing living space for the nearest 15 neighbors.\n",
    "Sqft_lot15: The square footage of the land lots of the nearest 15 neighbors."
   ]
  },
  {
   "cell_type": "markdown",
   "metadata": {},
   "source": [
    "### 2.2. Variables\n",
    "* For your hypotheses, what are your IVs and DVs?\n",
    "* For your predictive models, what are your features and target variables?\n"
   ]
  },
  {
   "cell_type": "markdown",
   "metadata": {},
   "source": [
    "IVs and DVs for Hypotheses"
   ]
  },
  {
   "cell_type": "markdown",
   "metadata": {},
   "source": [
    "(1) "
   ]
  },
  {
   "cell_type": "markdown",
   "metadata": {},
   "source": [
    "### 2.3. Data Analysis\n",
    "* Specifically describe your predictive model. What outcome variable are you going to predict from what feature variables?\n",
    "* Describe whether this is a supervised or unsupervised learning problem. Also identify the sub-category of the learning task (e.g. classification).\n",
    "* What machine learning algorithms are you going to use? Why?"
   ]
  },
  {
   "cell_type": "markdown",
   "metadata": {},
   "source": [
    "<a id=\"3\"></a>\n",
    "<hr style=\"height:2px; border:none; color:black; background-color:black;\">"
   ]
  },
  {
   "cell_type": "markdown",
   "metadata": {},
   "source": [
    "## 3. RESULTS"
   ]
  },
  {
   "cell_type": "markdown",
   "metadata": {},
   "source": [
    "### 3.1. Data Wrangling\n",
    "* Perform simple data cleaning (delete extra columns, deal with NA values, etc.)\n",
    "* Perform data wrangling to extract your features and target values (e.g., grouping your dataframe by columns, applying functions to format dataframes, etc.)\n",
    "* Preprocess your variables (e.g., scaling/transforming feature variables to normalize them)\n",
    "* Feature extraction (dummy variables, new features from existing features, etc.)\n",
    "* Use one feature selection technique to select a subset of your original features\n",
    "\n",
    "\n",
    "o\thttps://www.openml.org/d/42079![image.png](attachment:image.png)\n"
   ]
  },
  {
   "cell_type": "code",
   "execution_count": 18,
   "metadata": {},
   "outputs": [],
   "source": [
    "import pandas as pd\n",
    "from sklearn.preprocessing import KBinsDiscretizer"
   ]
  },
  {
   "cell_type": "code",
   "execution_count": 19,
   "metadata": {},
   "outputs": [],
   "source": [
    "df = pd.read_csv(\"Housing Data.csv\")"
   ]
  },
  {
   "cell_type": "code",
   "execution_count": 20,
   "metadata": {},
   "outputs": [],
   "source": [
    "#put continus data into bins\n",
    "discretizer = KBinsDiscretizer(n_bins= 8, encode = \"ordinal\", strategy = \"quantile\")\n",
    "living_potion_discretized = discretizer.fit_transform(df[\"Living room set\"].values.reshape(-1, 1))\n",
    "df[\"Living room set\"] = living_potion_discretized\n",
    "\n",
    "#discretizer.bin_edges_\n",
    "discretizer = KBinsDiscretizer(n_bins= 8, encode = \"ordinal\", strategy = \"quantile\")\n",
    "lot_potion_discretized = discretizer.fit_transform(df[\"Lot art\"].values.reshape(-1, 1))\n",
    "df[\"Lot art\"] = lot_potion_discretized\n",
    "\n",
    "discretizer = KBinsDiscretizer(n_bins= 8, encode = \"ordinal\", strategy = \"quantile\")\n",
    "above_potion_discretized = discretizer.fit_transform(df[\"Set above\"].values.reshape(-1, 1))\n",
    "df[\"Set above\"] = above_potion_discretized\n",
    "\n",
    "\n",
    "discretizer = KBinsDiscretizer(n_bins= 2, encode = \"ordinal\", strategy = \"uniform\")\n",
    "basement_potion_discretized = discretizer.fit_transform(df[\"Set basement\"].values.reshape(-1, 1))\n",
    "df[\"Set basement\"] = basement_potion_discretized\n",
    "\n",
    "discretizer = KBinsDiscretizer(n_bins= 8, encode = \"ordinal\", strategy = \"uniform\")\n",
    "fifteen_living_potion_discretized = discretizer.fit_transform(df[\"sqft_living15\"].values.reshape(-1, 1))\n",
    "df[\"sqft_living15\"] = fifteen_living_potion_discretized\n",
    "\n",
    "discretizer = KBinsDiscretizer(n_bins= 8, encode = \"ordinal\", strategy = \"uniform\")\n",
    "fifteen_lot_potion_discretized = discretizer.fit_transform(df[\"sqft_lot15\"].values.reshape(-1, 1))\n",
    "df[\"sqft_lot15\"] = fifteen_lot_potion_discretized"
   ]
  },
  {
   "cell_type": "code",
   "execution_count": 21,
   "metadata": {},
   "outputs": [
    {
     "data": {
      "text/html": [
       "<div>\n",
       "<style scoped>\n",
       "    .dataframe tbody tr th:only-of-type {\n",
       "        vertical-align: middle;\n",
       "    }\n",
       "\n",
       "    .dataframe tbody tr th {\n",
       "        vertical-align: top;\n",
       "    }\n",
       "\n",
       "    .dataframe thead th {\n",
       "        text-align: right;\n",
       "    }\n",
       "</style>\n",
       "<table border=\"1\" class=\"dataframe\">\n",
       "  <thead>\n",
       "    <tr style=\"text-align: right;\">\n",
       "      <th></th>\n",
       "      <th>Date</th>\n",
       "      <th>Bedrooms</th>\n",
       "      <th>Bathrooms</th>\n",
       "      <th>Living room set</th>\n",
       "      <th>Lot art</th>\n",
       "      <th>Floors</th>\n",
       "      <th>Water front</th>\n",
       "      <th>View</th>\n",
       "      <th>Condition</th>\n",
       "      <th>Grade</th>\n",
       "      <th>Set above</th>\n",
       "      <th>Set basement</th>\n",
       "      <th>Year_built</th>\n",
       "      <th>year_renovated</th>\n",
       "      <th>Zipcode</th>\n",
       "      <th>Lat</th>\n",
       "      <th>Long</th>\n",
       "      <th>sqft_living15</th>\n",
       "      <th>sqft_lot15</th>\n",
       "    </tr>\n",
       "  </thead>\n",
       "  <tbody>\n",
       "    <tr>\n",
       "      <td>0</td>\n",
       "      <td>2014</td>\n",
       "      <td>3</td>\n",
       "      <td>1.00</td>\n",
       "      <td>1.0</td>\n",
       "      <td>2.0</td>\n",
       "      <td>1.0</td>\n",
       "      <td>0</td>\n",
       "      <td>0</td>\n",
       "      <td>3</td>\n",
       "      <td>7</td>\n",
       "      <td>1.0</td>\n",
       "      <td>0.0</td>\n",
       "      <td>1955</td>\n",
       "      <td>0</td>\n",
       "      <td>98178</td>\n",
       "      <td>47.5112</td>\n",
       "      <td>-122.257</td>\n",
       "      <td>1.0</td>\n",
       "      <td>0.0</td>\n",
       "    </tr>\n",
       "    <tr>\n",
       "      <td>1</td>\n",
       "      <td>2014</td>\n",
       "      <td>3</td>\n",
       "      <td>2.25</td>\n",
       "      <td>6.0</td>\n",
       "      <td>3.0</td>\n",
       "      <td>2.0</td>\n",
       "      <td>0</td>\n",
       "      <td>0</td>\n",
       "      <td>3</td>\n",
       "      <td>7</td>\n",
       "      <td>5.0</td>\n",
       "      <td>0.0</td>\n",
       "      <td>1951</td>\n",
       "      <td>1991</td>\n",
       "      <td>98125</td>\n",
       "      <td>47.7210</td>\n",
       "      <td>-122.319</td>\n",
       "      <td>1.0</td>\n",
       "      <td>0.0</td>\n",
       "    </tr>\n",
       "    <tr>\n",
       "      <td>2</td>\n",
       "      <td>2015</td>\n",
       "      <td>2</td>\n",
       "      <td>1.00</td>\n",
       "      <td>0.0</td>\n",
       "      <td>5.0</td>\n",
       "      <td>1.0</td>\n",
       "      <td>0</td>\n",
       "      <td>0</td>\n",
       "      <td>3</td>\n",
       "      <td>6</td>\n",
       "      <td>0.0</td>\n",
       "      <td>0.0</td>\n",
       "      <td>1933</td>\n",
       "      <td>0</td>\n",
       "      <td>98028</td>\n",
       "      <td>47.7379</td>\n",
       "      <td>-122.233</td>\n",
       "      <td>3.0</td>\n",
       "      <td>0.0</td>\n",
       "    </tr>\n",
       "    <tr>\n",
       "      <td>3</td>\n",
       "      <td>2014</td>\n",
       "      <td>4</td>\n",
       "      <td>3.00</td>\n",
       "      <td>4.0</td>\n",
       "      <td>1.0</td>\n",
       "      <td>1.0</td>\n",
       "      <td>0</td>\n",
       "      <td>0</td>\n",
       "      <td>5</td>\n",
       "      <td>7</td>\n",
       "      <td>1.0</td>\n",
       "      <td>0.0</td>\n",
       "      <td>1965</td>\n",
       "      <td>0</td>\n",
       "      <td>98136</td>\n",
       "      <td>47.5208</td>\n",
       "      <td>-122.393</td>\n",
       "      <td>1.0</td>\n",
       "      <td>0.0</td>\n",
       "    </tr>\n",
       "    <tr>\n",
       "      <td>4</td>\n",
       "      <td>2015</td>\n",
       "      <td>3</td>\n",
       "      <td>2.00</td>\n",
       "      <td>3.0</td>\n",
       "      <td>4.0</td>\n",
       "      <td>1.0</td>\n",
       "      <td>0</td>\n",
       "      <td>0</td>\n",
       "      <td>3</td>\n",
       "      <td>8</td>\n",
       "      <td>4.0</td>\n",
       "      <td>0.0</td>\n",
       "      <td>1987</td>\n",
       "      <td>0</td>\n",
       "      <td>98074</td>\n",
       "      <td>47.6168</td>\n",
       "      <td>-122.045</td>\n",
       "      <td>1.0</td>\n",
       "      <td>0.0</td>\n",
       "    </tr>\n",
       "    <tr>\n",
       "      <td>...</td>\n",
       "      <td>...</td>\n",
       "      <td>...</td>\n",
       "      <td>...</td>\n",
       "      <td>...</td>\n",
       "      <td>...</td>\n",
       "      <td>...</td>\n",
       "      <td>...</td>\n",
       "      <td>...</td>\n",
       "      <td>...</td>\n",
       "      <td>...</td>\n",
       "      <td>...</td>\n",
       "      <td>...</td>\n",
       "      <td>...</td>\n",
       "      <td>...</td>\n",
       "      <td>...</td>\n",
       "      <td>...</td>\n",
       "      <td>...</td>\n",
       "      <td>...</td>\n",
       "      <td>...</td>\n",
       "    </tr>\n",
       "    <tr>\n",
       "      <td>21608</td>\n",
       "      <td>2014</td>\n",
       "      <td>3</td>\n",
       "      <td>2.50</td>\n",
       "      <td>2.0</td>\n",
       "      <td>0.0</td>\n",
       "      <td>3.0</td>\n",
       "      <td>0</td>\n",
       "      <td>0</td>\n",
       "      <td>3</td>\n",
       "      <td>8</td>\n",
       "      <td>3.0</td>\n",
       "      <td>0.0</td>\n",
       "      <td>2009</td>\n",
       "      <td>0</td>\n",
       "      <td>98103</td>\n",
       "      <td>47.6993</td>\n",
       "      <td>-122.346</td>\n",
       "      <td>1.0</td>\n",
       "      <td>0.0</td>\n",
       "    </tr>\n",
       "    <tr>\n",
       "      <td>21609</td>\n",
       "      <td>2015</td>\n",
       "      <td>4</td>\n",
       "      <td>2.50</td>\n",
       "      <td>5.0</td>\n",
       "      <td>2.0</td>\n",
       "      <td>2.0</td>\n",
       "      <td>0</td>\n",
       "      <td>0</td>\n",
       "      <td>3</td>\n",
       "      <td>8</td>\n",
       "      <td>6.0</td>\n",
       "      <td>0.0</td>\n",
       "      <td>2014</td>\n",
       "      <td>0</td>\n",
       "      <td>98146</td>\n",
       "      <td>47.5107</td>\n",
       "      <td>-122.362</td>\n",
       "      <td>1.0</td>\n",
       "      <td>0.0</td>\n",
       "    </tr>\n",
       "    <tr>\n",
       "      <td>21610</td>\n",
       "      <td>2014</td>\n",
       "      <td>2</td>\n",
       "      <td>0.75</td>\n",
       "      <td>0.0</td>\n",
       "      <td>0.0</td>\n",
       "      <td>2.0</td>\n",
       "      <td>0</td>\n",
       "      <td>0</td>\n",
       "      <td>3</td>\n",
       "      <td>7</td>\n",
       "      <td>1.0</td>\n",
       "      <td>0.0</td>\n",
       "      <td>2009</td>\n",
       "      <td>0</td>\n",
       "      <td>98144</td>\n",
       "      <td>47.5944</td>\n",
       "      <td>-122.299</td>\n",
       "      <td>0.0</td>\n",
       "      <td>0.0</td>\n",
       "    </tr>\n",
       "    <tr>\n",
       "      <td>21611</td>\n",
       "      <td>2015</td>\n",
       "      <td>3</td>\n",
       "      <td>2.50</td>\n",
       "      <td>2.0</td>\n",
       "      <td>0.0</td>\n",
       "      <td>2.0</td>\n",
       "      <td>0</td>\n",
       "      <td>0</td>\n",
       "      <td>3</td>\n",
       "      <td>8</td>\n",
       "      <td>4.0</td>\n",
       "      <td>0.0</td>\n",
       "      <td>2004</td>\n",
       "      <td>0</td>\n",
       "      <td>98027</td>\n",
       "      <td>47.5345</td>\n",
       "      <td>-122.069</td>\n",
       "      <td>1.0</td>\n",
       "      <td>0.0</td>\n",
       "    </tr>\n",
       "    <tr>\n",
       "      <td>21612</td>\n",
       "      <td>2014</td>\n",
       "      <td>2</td>\n",
       "      <td>0.75</td>\n",
       "      <td>0.0</td>\n",
       "      <td>0.0</td>\n",
       "      <td>2.0</td>\n",
       "      <td>0</td>\n",
       "      <td>0</td>\n",
       "      <td>3</td>\n",
       "      <td>7</td>\n",
       "      <td>1.0</td>\n",
       "      <td>0.0</td>\n",
       "      <td>2008</td>\n",
       "      <td>0</td>\n",
       "      <td>98144</td>\n",
       "      <td>47.5941</td>\n",
       "      <td>-122.299</td>\n",
       "      <td>0.0</td>\n",
       "      <td>0.0</td>\n",
       "    </tr>\n",
       "  </tbody>\n",
       "</table>\n",
       "<p>21613 rows × 19 columns</p>\n",
       "</div>"
      ],
      "text/plain": [
       "       Date  Bedrooms  Bathrooms  Living room set  Lot art  Floors  \\\n",
       "0      2014         3       1.00              1.0      2.0     1.0   \n",
       "1      2014         3       2.25              6.0      3.0     2.0   \n",
       "2      2015         2       1.00              0.0      5.0     1.0   \n",
       "3      2014         4       3.00              4.0      1.0     1.0   \n",
       "4      2015         3       2.00              3.0      4.0     1.0   \n",
       "...     ...       ...        ...              ...      ...     ...   \n",
       "21608  2014         3       2.50              2.0      0.0     3.0   \n",
       "21609  2015         4       2.50              5.0      2.0     2.0   \n",
       "21610  2014         2       0.75              0.0      0.0     2.0   \n",
       "21611  2015         3       2.50              2.0      0.0     2.0   \n",
       "21612  2014         2       0.75              0.0      0.0     2.0   \n",
       "\n",
       "       Water front  View  Condition  Grade  Set above  Set basement  \\\n",
       "0                0     0          3      7        1.0           0.0   \n",
       "1                0     0          3      7        5.0           0.0   \n",
       "2                0     0          3      6        0.0           0.0   \n",
       "3                0     0          5      7        1.0           0.0   \n",
       "4                0     0          3      8        4.0           0.0   \n",
       "...            ...   ...        ...    ...        ...           ...   \n",
       "21608            0     0          3      8        3.0           0.0   \n",
       "21609            0     0          3      8        6.0           0.0   \n",
       "21610            0     0          3      7        1.0           0.0   \n",
       "21611            0     0          3      8        4.0           0.0   \n",
       "21612            0     0          3      7        1.0           0.0   \n",
       "\n",
       "       Year_built  year_renovated  Zipcode      Lat     Long  sqft_living15  \\\n",
       "0            1955               0    98178  47.5112 -122.257            1.0   \n",
       "1            1951            1991    98125  47.7210 -122.319            1.0   \n",
       "2            1933               0    98028  47.7379 -122.233            3.0   \n",
       "3            1965               0    98136  47.5208 -122.393            1.0   \n",
       "4            1987               0    98074  47.6168 -122.045            1.0   \n",
       "...           ...             ...      ...      ...      ...            ...   \n",
       "21608        2009               0    98103  47.6993 -122.346            1.0   \n",
       "21609        2014               0    98146  47.5107 -122.362            1.0   \n",
       "21610        2009               0    98144  47.5944 -122.299            0.0   \n",
       "21611        2004               0    98027  47.5345 -122.069            1.0   \n",
       "21612        2008               0    98144  47.5941 -122.299            0.0   \n",
       "\n",
       "       sqft_lot15  \n",
       "0             0.0  \n",
       "1             0.0  \n",
       "2             0.0  \n",
       "3             0.0  \n",
       "4             0.0  \n",
       "...           ...  \n",
       "21608         0.0  \n",
       "21609         0.0  \n",
       "21610         0.0  \n",
       "21611         0.0  \n",
       "21612         0.0  \n",
       "\n",
       "[21613 rows x 19 columns]"
      ]
     },
     "execution_count": 21,
     "metadata": {},
     "output_type": "execute_result"
    }
   ],
   "source": [
    "target = df[\"Price\"]\n",
    "features = df.drop(\"Price\", axis=1).drop(\"ID\", axis=1)\n",
    "#Change the date from a string to an int and only keep the year\n",
    "new_dates = []\n",
    "for date in df[\"Date\"]:\n",
    "    new_date = int(date[0:4])\n",
    "    new_dates.append(new_date)\n",
    "features[\"Date\"] = new_dates\n",
    "features"
   ]
  },
  {
   "cell_type": "code",
   "execution_count": 6,
   "metadata": {},
   "outputs": [
    {
     "name": "stdout",
     "output_type": "stream",
     "text": [
      "R-squared value for training set:  0.6989551245743066\n",
      "R-squared value for testing set:  0.7067238991716212\n"
     ]
    },
    {
     "name": "stderr",
     "output_type": "stream",
     "text": [
      "/Users/cathy/opt/anaconda3/lib/python3.7/site-packages/sklearn/linear_model/coordinate_descent.py:475: ConvergenceWarning: Objective did not converge. You might want to increase the number of iterations. Duality gap: 14907717082608.312, tolerance: 217424425560.64114\n",
      "  positive)\n"
     ]
    }
   ],
   "source": [
    "#LASSO REGRESSION\n",
    "from sklearn.linear_model import LinearRegression\n",
    "from sklearn.model_selection import train_test_split\n",
    "from sklearn.preprocessing import MinMaxScaler\n",
    "from sklearn.linear_model import Lasso\n",
    "from sklearn.metrics import r2_score\n",
    "\n",
    "\n",
    "\n",
    "#split data into training and testing sets\n",
    "X_train, X_test, y_train, y_test = train_test_split(features, target, random_state=3000)\n",
    "\n",
    "scaler = MinMaxScaler()\n",
    "scaler.fit(X_train)\n",
    "\n",
    "X_train_scaled = scaler.transform(X_train) \n",
    "X_test_scaled = scaler.transform(X_test) \n",
    "\n",
    "model = Lasso(alpha = 0.01).fit(X=X_train_scaled, y=y_train)\n",
    "\n",
    "print(\"R-squared value for training set: \", r2_score(y_train, model.predict(X_train_scaled)))\n",
    "print(\"R-squared value for testing set: \", r2_score(y_test, model.predict(X_test_scaled)))"
   ]
  },
  {
   "cell_type": "code",
   "execution_count": 7,
   "metadata": {},
   "outputs": [
    {
     "name": "stdout",
     "output_type": "stream",
     "text": [
      "R^2 for training set:  0.6989551245842066\n",
      "R^2 for testing set:  0.706723763375656\n"
     ]
    }
   ],
   "source": [
    "#NORMAL MULTIPLE LINEAR REGRESSION\n",
    "from sklearn.linear_model import LinearRegression\n",
    "from sklearn.model_selection import train_test_split\n",
    "from sklearn.preprocessing import MinMaxScaler\n",
    "from sklearn.linear_model import Lasso\n",
    "from sklearn.metrics import r2_score\n",
    "\n",
    "#split data into training and testing sets\n",
    "X_train, X_test, y_train, y_test = train_test_split(features, target, random_state=3000)\n",
    "\n",
    "scaler = MinMaxScaler()\n",
    "scaler.fit(X_train)\n",
    "\n",
    "X_train_scaled = scaler.transform(X_train) \n",
    "X_test_scaled = scaler.transform(X_test) \n",
    "\n",
    "\n",
    "#select a regressor and create the model by fitting the training data\n",
    "model = LinearRegression().fit(X=X_train_scaled, y=y_train)\n",
    "\n",
    "print(\"R^2 for training set: \", r2_score(y_train, model.predict(X_train_scaled)))\n",
    "print(\"R^2 for testing set: \", r2_score(y_test, model.predict(X_test_scaled)))"
   ]
  },
  {
   "cell_type": "code",
   "execution_count": 8,
   "metadata": {},
   "outputs": [
    {
     "name": "stdout",
     "output_type": "stream",
     "text": [
      "R-squared value for training set:  0.6988446028160967\n",
      "R-squared value for testing set:  0.7065824042384226\n"
     ]
    }
   ],
   "source": [
    "#RIDGE REGRESSION\n",
    "from sklearn.linear_model import LinearRegression\n",
    "from sklearn.linear_model import Ridge\n",
    "from sklearn.model_selection import train_test_split\n",
    "from sklearn.preprocessing import MinMaxScaler\n",
    "from sklearn.metrics import r2_score\n",
    "\n",
    "#split data into training and testing sets\n",
    "X_train, X_test, y_train, y_test = train_test_split(features, target, random_state=3000)\n",
    "\n",
    "scaler = MinMaxScaler()\n",
    "scaler.fit(X_train)\n",
    "\n",
    "X_train_scaled = scaler.transform(X_train) \n",
    "X_test_scaled = scaler.transform(X_test) \n",
    "\n",
    "model = Ridge().fit(X=X_train_scaled, y=y_train)\n",
    "\n",
    "print(\"R-squared value for training set: \", r2_score(y_train, model.predict(X_train_scaled)))\n",
    "print(\"R-squared value for testing set: \", r2_score(y_test, model.predict(X_test_scaled)))"
   ]
  },
  {
   "cell_type": "code",
   "execution_count": 9,
   "metadata": {},
   "outputs": [
    {
     "name": "stdout",
     "output_type": "stream",
     "text": [
      "R-squared value for training set:  0.8088774589261654\n",
      "R-squared value for testing set:  0.7598319265151898\n"
     ]
    }
   ],
   "source": [
    "#KNN REGRESSION\n",
    "from sklearn.neighbors import KNeighborsRegressor\n",
    "from sklearn.model_selection import train_test_split\n",
    "from sklearn.metrics import r2_score\n",
    "\n",
    "#split data into training and testing sets\n",
    "X_train, X_test, y_train, y_test = train_test_split(features, target, random_state=3000)\n",
    "\n",
    "scaler = MinMaxScaler()\n",
    "scaler.fit(X_train)\n",
    "\n",
    "X_train_scaled = scaler.transform(X_train) \n",
    "X_test_scaled = scaler.transform(X_test) \n",
    "\n",
    "model = KNeighborsRegressor(n_neighbors = 8).fit(X=X_train_scaled, y=y_train)\n",
    "\n",
    "\n",
    "print(\"R-squared value for training set: \", r2_score(y_train, model.predict(X_train_scaled)))\n",
    "print(\"R-squared value for testing set: \", r2_score(y_test, model.predict(X_test_scaled)))"
   ]
  },
  {
   "cell_type": "code",
   "execution_count": 14,
   "metadata": {},
   "outputs": [
    {
     "name": "stdout",
     "output_type": "stream",
     "text": [
      "Selected features after RFE: \t\n",
      "\tDate\n",
      "\tBedrooms\n",
      "\tBathrooms\n",
      "\tLiving room set\n",
      "\tLot art\n",
      "\n",
      "kNN Regression performance with selected features:\n",
      "\tR-squared value for training set:  0.6619433047919691\n",
      "\tR-squared value for testing set:  0.5089188661113814\n"
     ]
    }
   ],
   "source": [
    "from sklearn.feature_selection import RFE\n",
    "from sklearn.tree import DecisionTreeRegressor\n",
    "select = RFE(DecisionTreeRegressor(random_state = 3000), n_features_to_select = 5)\n",
    "select.fit(X_train, y_train)\n",
    "X_train_selected = select.transform(X_train)\n",
    "X_test_selected = select.transform(X_test)\n",
    "model = KNeighborsRegressor(n_neighbors = 8).fit(X=X_train_selected, y=y_train)\n",
    "feature = features.columns\n",
    "supports = select.get_support()\n",
    "num = 0\n",
    "print(\"Selected features after RFE: \\t\")\n",
    "for i in supports:\n",
    "    if i:\n",
    "        print(\"\\t\" + str(feature[num]))\n",
    "        num = num + 1\n",
    "model = KNeighborsRegressor().fit(X=X_train_selected, y=y_train)\n",
    "print(\"\\nkNN Regression performance with selected features:\")\n",
    "print(\"\\tR-squared value for training set: \", r2_score(y_train, model.predict(X_train_selected)))\n",
    "print(\"\\tR-squared value for testing set: \", r2_score(y_test, model.predict(X_test_selected)))"
   ]
  },
  {
   "cell_type": "code",
   "execution_count": null,
   "metadata": {},
   "outputs": [],
   "source": []
  },
  {
   "cell_type": "code",
   "execution_count": null,
   "metadata": {},
   "outputs": [],
   "source": []
  },
  {
   "cell_type": "markdown",
   "metadata": {},
   "source": [
    "### 3.2. Data Exploration\n",
    "* Generate appropriate data visualizations for your key variables identified in the previous section\n",
    "* You should have at least three visualizations (and at least two different visualization types)\n",
    "* For each visualization provide an explanation regarding the variables involved and an interpretation of the graph.\n",
    "* If you are using Plotly, insert your visualizations as images as well (upload the graph images to an online source, e.g. github, and link those in Jupyter Notebook)\n"
   ]
  },
  {
   "cell_type": "markdown",
   "metadata": {},
   "source": [
    "### 3.3. Model Construction\n",
    "* If you proposed hypotheses, conduct your hypothesis tests\n",
    "* For your machine learning question(s), split data into training, validation, and testing sets (or use cross-validation)\n",
    "* Apply machine learning algorithms (apply at least three algorithms)\n",
    "* Train your algorithms"
   ]
  },
  {
   "cell_type": "markdown",
   "metadata": {},
   "source": [
    "### 3.4. Model Evaluation\n",
    "* Evaluate the performance of your algorithms on appropriate evaluation metrics, using your validation set\n",
    "* Interpret your results from multiple models (and hypothesis tests, if any)"
   ]
  },
  {
   "cell_type": "markdown",
   "metadata": {},
   "source": [
    "### 3.5. Model Optimization\n",
    "* Tune your models using appropriate hyperparameters\n",
    "* Explain why you are doing this (e.g., to avoid overfitting, etc.)"
   ]
  },
  {
   "cell_type": "markdown",
   "metadata": {},
   "source": [
    "### 3.6. Model Testing\n",
    "* Test your tuned algorithms using your testing set"
   ]
  },
  {
   "cell_type": "markdown",
   "metadata": {},
   "source": [
    "<a id=\"4\"></a>\n",
    "<hr style=\"height:2px; border:none; color:black; background-color:black;\">"
   ]
  },
  {
   "cell_type": "markdown",
   "metadata": {},
   "source": [
    "## 4. DISCUSSION\n",
    "* Provide a summary of the steps you took to analyze your data and test your predictive model\n",
    "* Intepret your findings from 3.4., 3.5, and 3.6\n",
    "    * Which algorithms did you compare?\n",
    "    * Which algorithm(s) revealed best performance?\n",
    "    * Which algorithm(s) should be used for your predictive model?\n",
    "* If you tested hypotheses, interpret the results. What does it mean to have significant/non-significant differences with regards to your data?\n",
    "\n",
    "\n",
    "* End this section with a conclusion paragraph containing some pointers for future work \n",
    "    *(e.g., get more data, perform another analysis, etc.)"
   ]
  },
  {
   "cell_type": "markdown",
   "metadata": {},
   "source": [
    "<a id=\"5\"></a>\n",
    "<hr style=\"height:2px; border:none; color:black; background-color:black;\">"
   ]
  },
  {
   "cell_type": "markdown",
   "metadata": {},
   "source": [
    "### CONTRIBUTIONS\n",
    "* Describe each team member's contributions to the report (who did what in each section)\n",
    "* Remember this is a team effort!\n",
    "* Each member of your team will provide peer evaluation of other team members. Your final grade on the project will be based on those peer evaluations. "
   ]
  }
 ],
 "metadata": {
  "kernelspec": {
   "display_name": "Python 3",
   "language": "python",
   "name": "python3"
  },
  "language_info": {
   "codemirror_mode": {
    "name": "ipython",
    "version": 3
   },
   "file_extension": ".py",
   "mimetype": "text/x-python",
   "name": "python",
   "nbconvert_exporter": "python",
   "pygments_lexer": "ipython3",
   "version": "3.7.4"
  }
 },
 "nbformat": 4,
 "nbformat_minor": 2
}
